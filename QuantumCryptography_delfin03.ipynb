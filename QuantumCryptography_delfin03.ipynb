{
  "cells": [
    {
      "cell_type": "code",
      "execution_count": 22,
      "metadata": {
        "id": "9HFEnoZCG1aV"
      },
      "outputs": [],
      "source": [
        "!pip install qiskit --quiet\n",
        "!pip install qiskit-aer --quiet\n",
        "!pip install pylatexenc --quiet"
      ]
    },
    {
      "cell_type": "code",
      "execution_count": 23,
      "metadata": {
        "colab": {
          "base_uri": "https://localhost:8080/"
        },
        "id": "qbLUQ9XgG1aW",
        "outputId": "8f05c404-a10b-4ca0-c581-0b9e202368fe"
      },
      "outputs": [
        {
          "output_type": "stream",
          "name": "stdout",
          "text": [
            "qiskit version: 2.1.0\n"
          ]
        }
      ],
      "source": [
        "import qiskit\n",
        "print(\"qiskit version:\", qiskit.__version__)"
      ]
    },
    {
      "cell_type": "markdown",
      "metadata": {
        "id": "n3tWvFusG1aW"
      },
      "source": [
        "<img src=\"https://raw.githubusercontent.com/Qiskit/qiskit-tutorials/master/images/qiskit-heading.png\" alt=\"Note: In order for images to show up in this jupyter notebook you need to select File => Trusted Notebook\" width=\"500 px\" align=\"left\">"
      ]
    },
    {
      "cell_type": "markdown",
      "metadata": {
        "id": "tb2lLk85G1aW"
      },
      "source": [
        "# Quantum Cryptography\n",
        "This notebook consists in a possible implementation of the **BB84** cryptographic protocol on a quantum computer, reproducing **Quantum Key Distribution** and eavesdropper detection.\n",
        "\n",
        "It makes use of IBM's QISKit, a python library that can manipulate quantum circuits, either via a simulation or a real execution on IBM's backend."
      ]
    },
    {
      "cell_type": "markdown",
      "metadata": {
        "id": "QRM8ehW9G1aX"
      },
      "source": [
        "\n",
        "\n",
        "### Qiskit Package Versions"
      ]
    },
    {
      "cell_type": "markdown",
      "metadata": {
        "id": "pr6JFkroG1aX"
      },
      "source": [
        "## Quantum Key Distribution\n",
        "In 1984, building on the work of *Wiesner*, *Charles Bennett*, an IBM's researcher, and *Gilles Brassard*, of the Université de Montréal, developed the first **quantum cryptographic protocol**, which goes under the codename of **BB84**.\n",
        "\n",
        "Suppose that *Alice* and *Bob* are connected via a **quantum channel** that they can use to exchange qubits. This channel is not used directly to send a private message, but only to exchange random qubits that after processing will compose the encryption key.  \n",
        "\n",
        "If key sharing is completed successfully, this key can be used in the well known way as a **one-time pad** (OTP) to produce a safely encrypted message to be delivered over a **classical channel** using symmetrical cryptography. The key should be completely random, as long as the message, and discarded after use; the procedure can be repeated for every message that needs to be delivered.\n",
        "\n",
        "More specifically *Alice* produces an **initial key**, selecting a sequence of **random bits**, '$0$' and '$1$', and picking a sequence of **polarization eigenstates**, with respect to a randomly chosen basis between: **rectilinear** $\\{\\lvert 0 \\rangle,\\  \\lvert 1 \\rangle\\}$ and **diagonal** $\\{\\lvert \\nearrow \\rangle,\\  \\lvert \\searrow \\rangle\\}$.\n",
        "\n",
        "*Alice* encodes the classical bits of the key one by one in a **qubit**, by preparing each qubit in an eigenstate of the basis chosen, so that only by measuring the qubits in the **right basis** one can retrieve with **certainty** the right classical bit, just as it happens with quantum money. In the meantime *Alice* keeps a note (in a **table**) of the basis that she has picked for every single qubit she has encoded.\n",
        "\n",
        "Now, using the quantum channel, she sends the stream of qubits to *Bob*, who is **unaware** of the basis used by *Alice* for the encoding. *Bob* receives these qubits prepared in a certain polarization eigenstate but, due to the **no-cloning theorem**, he is unable to recognize which basis *Alice* used, because he cannot distinguish **non-orthogonal states** with a single measurement. Nonetheless he proceeds anyway with measuring each photon's polarization using a basis chosen randomly (between rectilinear and diagonal), and he keeps a note of the measurement result and the associated basis that he used in a report **table**.\n",
        "\n",
        "Statistically, *Bob* will pick the **right basis**, the same that *Alice* picked, about **$1/2$** of the times, and the wrong basis about **$1/2$** of the times. When he measures using the right basis he correctly retrieves the information bit of the key, but when he picks the wrong basis the information bit is not certain, since with respect to this basis, the qubit is in a **superposition** of the eigenstates of the right bases, and it can collapse in either two of them with equal probability of **$1/2.$**\n",
        "\n",
        "For this reason *Alice* and *Bob* decide to **sift** their key, which in practical terms means that they discard from the key all the bits obtained via measurements made in the wrong basis, since they are not reliable. The price for this action is that the key will lose about **$1/2$** of its length, but the payoff is that they don't need to unveil their measurements, they just need to compare their tables, where they recorded the basis chosen, and they do that **after** the measurement has occurred.\n",
        "\n",
        "So they open the **classical channel** and only now *Alice* tells (publicly) *Bob* which basis she used to encode the key; they **compare** the **tables** and discard the bits obtained measuring qubits in different basis. What they obtain is a perfectly correlate **sifted key**, the same for both of them, ready for use. This key can be employed as a one-time pad and once is used up completely, the procedure can be repeated again to produce a new random key.\n",
        "\n",
        "What happens if we now introduce an **eavesdropper** in the communication? Suppose that *Eve* is able to intercept the qubits that Alice sends to Bob, and that she can also tap the classical communication channel. When she gets hold of the qubits she still doesn't know which basis *Alice* used, just like *Bob*. She is forced to make a guess, and she will pick the wrong basis **$1/2$** of the times. If she measures in the wrong basis she has **$1/2$** probability to make the qubit collapse in the wrong eigenstate, so that on the whole she will have altered about **$1/4$** of the original qubits. This is the main difference with classical crypto: thanks to quantum mechanics observing implies measuring, and if this is not done accordingly, it changes the actual state (key).\n",
        "\n",
        "*Eve* produces a **candidate key** and passes on these (now altered) qubits to Bob who proceeds himself with his measurements. *Bob* constructs his table list of random basis and also obtains his candidate key, which will of course be different from *Eve*'s. When* Alice* broadcasts his basis table on the classical channel and *Bob* sift his  key accordingly, he will obtain a key different from *Alice*'s, unusable, since even in the same basis choice qubits will be different about **$1/4$** of the times. If *Alice* try to encrypt a message, symmetrical cryptography would fail and both *Alice* and *Bob* will know that communication has been compromised.\n",
        "\n",
        "If *Alice* and *Bob* never compare their measurement and they only compare basis tables they have no way of knowing that the state has been altered, until the encrypted message is produced, sent and decryption fails. However they can decide to initiate **key sharing** by also comparing their measurement on a certain number of qubits, and, only when they are convinced that the channel is free of interference, they proceed with the actual key sharing. Of course the part of the key that represents the unveiled measurement has to be discarded from it. In real world application is comprises about $1/3$ of the whole key.\n",
        "\n",
        "In this notebook I will be demonstrating exactly this behavior, how initial key sharing can be used to detect an eavesdropper."
      ]
    },
    {
      "cell_type": "markdown",
      "metadata": {
        "id": "UtvIVxQQG1aX"
      },
      "source": [
        "## QKD proof of concept on a quantum  computer\n",
        "Quantum Key Distribution requires special apparatus made for key sharing. Having at our disposal IBM's quantum computer, here we present a proof-of-concept of how the process can be realized, using real quantum measuring devices.\n",
        "\n",
        "The key sharing part will be simulated using different quantum circuits one for each party (*Alice*, *Bob*, *Eve*) in the exchange, since we don't have a real quantum channel. We present first the simple case in which only *Alice* and *Bob* are present, and we later proceed to introduce *Eve* and demonstrate how she can be caught.\n",
        "\n",
        "First we check for and import the required libraries:"
      ]
    },
    {
      "cell_type": "code",
      "execution_count": 24,
      "metadata": {
        "id": "5WwyPs97G1aX"
      },
      "outputs": [],
      "source": [
        "# Import necessary libraries\n",
        "import numpy as np\n",
        "from qiskit import QuantumCircuit, ClassicalRegister, QuantumRegister\n",
        "from qiskit_aer import AerSimulator\n",
        "from qiskit import transpile\n",
        "from qiskit.primitives import StatevectorSampler, BackendSamplerV2\n",
        "from qiskit.visualization import plot_histogram\n",
        "import matplotlib.pyplot as plt\n"
      ]
    },
    {
      "cell_type": "markdown",
      "metadata": {
        "id": "8P-pj5zhG1aX"
      },
      "source": [
        "Next we do some preliminary settings to better manipulate quantum circuits and we set the number of available (qu)bits to 16"
      ]
    },
    {
      "cell_type": "code",
      "execution_count": 25,
      "metadata": {
        "id": "lTEyPknoG1aX"
      },
      "outputs": [],
      "source": [
        "# Create registers\n",
        "n = 16  # Maximum 23 for local backend (memory limitations)\n",
        "qr = QuantumRegister(n, name='qr')\n",
        "cr = ClassicalRegister(n, name='cr')"
      ]
    },
    {
      "cell_type": "markdown",
      "metadata": {
        "id": "9-Ws3H35G1aX"
      },
      "source": [
        "We create Alice's quantum circuit, made of $n$ qubits (and $n$ bits in a classical register, for measuring). We use $randint$ from numpy to generate a random number in the available range which will be our key and then we write the resulted number in binary and we memorize the key in a proper variable"
      ]
    },
    {
      "cell_type": "code",
      "execution_count": 26,
      "metadata": {
        "id": "8EaEmFXAG1aY"
      },
      "outputs": [],
      "source": [
        "# Alice's quantum circuit\n",
        "alice = QuantumCircuit(qr, cr, name='Alice')\n",
        "\n",
        "# Generate random key\n",
        "alice_key = np.random.randint(0, high=2**n)\n",
        "alice_key = np.binary_repr(alice_key, n)  # Convert to binary"
      ]
    },
    {
      "cell_type": "markdown",
      "metadata": {
        "id": "HzewCCPnG1aY"
      },
      "source": [
        "Parse the generated key and we encode it in Alice's circuit, initializing her qubits to the computational basis: $\\{\\lvert 0 \\rangle,\\  \\lvert 1 \\rangle\\}$, according to the value bit. Then we apply a rotation to about half of these qubits, so that about $1/2$ of them will now be in one of the eigenstates of the diagonal basis:  $\\{\\lvert \\nearrow \\rangle,\\  \\lvert \\searrow \\rangle\\}$. We record the basis choice in a list (table) that will later be used for key verification."
      ]
    },
    {
      "cell_type": "code",
      "execution_count": 27,
      "metadata": {
        "id": "MynwzUYjG1aY"
      },
      "outputs": [],
      "source": [
        "# Encode key into qubits\n",
        "for index, digit in enumerate(alice_key):\n",
        "    if digit == '1':\n",
        "        alice.x(qr[index])  # Flip to |1>\n",
        "\n",
        "# Random basis selection\n",
        "alice_table = []\n",
        "for index in range(len(qr)):\n",
        "    if np.random.random() > 0.5:  # 50% chance for diagonal basis\n",
        "        alice.h(qr[index])\n",
        "        alice_table.append('X')  # Diagonal basis\n",
        "    else:\n",
        "        alice_table.append('Z')  # Computational basis"
      ]
    },
    {
      "cell_type": "markdown",
      "metadata": {
        "id": "7hZByP_4G1aY"
      },
      "source": [
        "How can we send this state to Bob? As said, we don't have another quantum computer, but we can create another quantum circuit, which we call $bob$, and initialize Bob's initial state to Alice's output state. To accomplish this task we define a helper function, *SendState*, that retrieves the qasm code of a given quantum circuit, $qc1$, does some filtering to extract the quantum gates applied, and produces new instructions that uses to initialize another circuit, $qc2$. This trick works because QISKit maintains a python dictionary of quantum circuits with their relative qasm instructions."
      ]
    },
    {
      "cell_type": "code",
      "execution_count": 28,
      "metadata": {
        "id": "QZe1_SjqG1aY"
      },
      "outputs": [],
      "source": [
        "# get_qasm method needs the str label\n",
        "# alternatively we can use circuits[0] but since dicts are not ordered\n",
        "# it is not a good idea to put them in a func\n",
        "# circuits = list(qp.get_circuit_names())\n",
        "\n",
        "def send_state(qc1, qc2, qr):\n",
        "    \"\"\"Copy gates from qc1 to qc2 using qubit register qr\"\"\"\n",
        "    for instr, qargs, cargs in qc1.data:\n",
        "        gate_name = instr.name\n",
        "        if gate_name == 'x':\n",
        "            qc2.x(qargs[0])\n",
        "        elif gate_name == 'h':\n",
        "            qc2.h(qargs[0])\n",
        "        elif gate_name == 'measure':\n",
        "            continue  # Skip measurements\n",
        "        else:\n",
        "            raise Exception(f'Unsupported gate: {gate_name}')"
      ]
    },
    {
      "cell_type": "markdown",
      "metadata": {
        "id": "TAT-LbUaG1aY"
      },
      "source": [
        "Now we can create Bob's circuit and \"send\" Alice's qubits to Bob. We pretend that this state is unknown to Bob so that he doesn't know which basis to use and decides randomly that $1/2$ of the qubits are to be measured in the rectilinear basis and the other $1/2$ in the diagonal basis; we then record Bob's choice in his table list variable"
      ]
    },
    {
      "cell_type": "code",
      "execution_count": 29,
      "metadata": {
        "colab": {
          "base_uri": "https://localhost:8080/"
        },
        "id": "2qY2P6xJG1aY",
        "outputId": "81a78289-25cf-4372-e4ae-355aca73ae1c"
      },
      "outputs": [
        {
          "output_type": "stream",
          "name": "stdout",
          "text": [
            "Bob's basis choices: ['Z', 'X', 'X', 'Z', 'X', 'Z', 'Z', 'X', 'Z', 'Z', 'X', 'Z', 'X', 'X', 'X', 'X']\n"
          ]
        },
        {
          "output_type": "stream",
          "name": "stderr",
          "text": [
            "/tmp/ipython-input-28-407392840.py:8: DeprecationWarning: Treating CircuitInstruction as an iterable is deprecated legacy behavior since Qiskit 1.2, and will be removed in Qiskit 3.0. Instead, use the `operation`, `qubits` and `clbits` named attributes.\n",
            "  for instr, qargs, cargs in qc1.data:\n"
          ]
        }
      ],
      "source": [
        "# Bob's circuit\n",
        "bob = QuantumCircuit(qr, cr, name='Bob')\n",
        "send_state(alice, bob, qr)  # Transfer Alice's state\n",
        "\n",
        "# Bob's random measurements\n",
        "bob_table = []\n",
        "for index in range(len(qr)):\n",
        "    if np.random.random() > 0.5:  # Diagonal basis\n",
        "        bob.h(qr[index])\n",
        "        bob_table.append('X')\n",
        "    else:\n",
        "        bob_table.append('Z')\n",
        "    bob.measure(qr[index], cr[index])  # Measure qubit\n",
        "\n",
        "print(\"Bob's basis choices:\", bob_table)"
      ]
    },
    {
      "cell_type": "markdown",
      "metadata": {
        "id": "EjOkPIZiG1aY"
      },
      "source": [
        "Bob can now go ahead and measure all his qubits and store the measurement in the classical register. We build and run the circuit on the local backend, but, if a token is provided and enough credits are available, it can also be executed on the remote backend with 16 qubits, ibmqx5. Note that is very important that $shots=1$, since we have to pretend that Bob has only one measurement chance, otherwise he could statistically infer the basis used (you can try)."
      ]
    },
    {
      "cell_type": "code",
      "execution_count": 30,
      "metadata": {
        "id": "4fwzfRkxG1aY"
      },
      "outputs": [],
      "source": [
        "# Simulate quantum execution\n",
        "simulator = AerSimulator()\n",
        "compiled_circuit = transpile(bob, simulator)\n",
        "result = simulator.run(compiled_circuit, shots=1).result()\n",
        "counts = result.get_counts()\n",
        "bob_results = list(counts.keys())[0][::-1]  # Extract results"
      ]
    },
    {
      "cell_type": "code",
      "execution_count": 31,
      "metadata": {
        "colab": {
          "base_uri": "https://localhost:8080/"
        },
        "id": "KadA_PigG1aY",
        "outputId": "dd71ddc6-10f2-487f-e81c-c8aa09daf77a"
      },
      "outputs": [
        {
          "output_type": "stream",
          "name": "stdout",
          "text": [
            "\n",
            "Original key: 0110101000010111\n",
            "Sifted key: 01001\n",
            "Key reduced by 68.8% after sifting\n"
          ]
        }
      ],
      "source": [
        "# Compare basis choices\n",
        "sifted_key = []\n",
        "for i in range(n):\n",
        "    if alice_table[i] == bob_table[i]:\n",
        "        sifted_key.append(alice_key[i])\n",
        "\n",
        "print(\"\\nOriginal key:\", alice_key)\n",
        "print(\"Sifted key:\", ''.join(sifted_key))\n",
        "print(f\"Key reduced by {100*(1-len(sifted_key)/n):.1f}% after sifting\")"
      ]
    },
    {
      "cell_type": "markdown",
      "metadata": {
        "id": "P6S1B3atG1aY"
      },
      "source": [
        "The histogram is not highly informative of course, but we can see that the measure has been performed correctly. Alice and Bob can switch over to the classical channel, compare their basis table lists, and discard qubits measured using different basis."
      ]
    },
    {
      "cell_type": "code",
      "execution_count": 32,
      "metadata": {
        "id": "O9dlR-lMG1aY"
      },
      "outputs": [],
      "source": [
        "# Visualization\n",
        "alice.draw(output='mpl', style='iqp')\n",
        "plt.show()\n",
        "\n",
        "plot_histogram(counts, title='Measurement Results')\n",
        "plt.show()\n"
      ]
    },
    {
      "cell_type": "markdown",
      "metadata": {
        "id": "hvzp7OvPG1aZ"
      },
      "source": [
        "We know that Bob will pick the wrong basis for $1/2$ of the qubits, so we can check that this theoretical probability is indeed replicated. We also know that although Bob picks the wrong basis, he can still end up with right eigenstate, and that he will do so about $1/2$ of the times, getting right $3/4$ of the qubits. We can check when Alice's and Bob's measurements coincide due to pure chance, although noting that this step is never performed in the actual key sharing step, but only in the inital sharing to test for eavesdropper."
      ]
    },
    {
      "cell_type": "code",
      "execution_count": 33,
      "metadata": {
        "colab": {
          "base_uri": "https://localhost:8080/"
        },
        "id": "1gzvMcVzG1aZ",
        "outputId": "66a2e1ec-c7f3-4cbe-ea70-de9aee0b7a1d"
      },
      "outputs": [
        {
          "output_type": "stream",
          "name": "stdout",
          "text": [
            "Percentage of qubits to be kept according to basis table comparison: 0.6\n",
            "Measurement convergence by random chance: 0.7\n"
          ]
        }
      ],
      "source": [
        "n = 10\n",
        "\n",
        "# Sample test keys (normally generated during BB84 simulation)\n",
        "alice_key = ['0', '1', '0', '1', '0', '1', '0', '1', '0', '1']\n",
        "bob_key   = ['0', '0', '0', '1', '1', '1', '0', '1', '1', '1']\n",
        "keep = [0, 2, 3, 5, 6, 7]  # These are the positions where bases matched\n",
        "\n",
        "# Count bit matches\n",
        "acc = 0\n",
        "for a_bit, b_bit in zip(alice_key, bob_key):\n",
        "    if a_bit == b_bit:\n",
        "        acc += 1\n",
        "\n",
        "print('Percentage of qubits to be kept according to basis table comparison:', len(keep)/n)\n",
        "print('Measurement convergence by random chance:', acc/n)"
      ]
    },
    {
      "cell_type": "markdown",
      "metadata": {
        "id": "-Y4tSJWhG1aZ"
      },
      "source": [
        "Now before sifting the keys we perform a check on a certain number of the qubits, comparing their value to see if they have been altered. Since we have only 16 qubits, which is a really low number, we check all of them. Although the procedure is limited to exchange 16 qubits at a time it can be repeated as many times as needed."
      ]
    },
    {
      "cell_type": "code",
      "execution_count": 34,
      "metadata": {
        "colab": {
          "base_uri": "https://localhost:8080/"
        },
        "id": "tAdL8SsKG1aZ",
        "outputId": "829a48fc-5546-46e5-86aa-4a0152f47385"
      },
      "outputs": [
        {
          "output_type": "stream",
          "name": "stdout",
          "text": [
            "Percentage of similarity between the keys:  1.0\n"
          ]
        }
      ],
      "source": [
        "new_alice_key = [alice_key[qubit] for qubit in keep]\n",
        "new_bob_key = [bob_key[qubit] for qubit in keep]\n",
        "\n",
        "acc = 0\n",
        "for bit in zip(new_alice_key, new_bob_key):\n",
        "    if bit[0] == bit[1]:\n",
        "        acc += 1\n",
        "\n",
        "print('Percentage of similarity between the keys: ', acc/len(new_alice_key))"
      ]
    },
    {
      "cell_type": "markdown",
      "metadata": {
        "id": "xDhemxsqG1aZ"
      },
      "source": [
        "If the qubits measured are the same can accept the new sifted keys. The new sifted keys are printed to stdout, of course this step is just to verify the rightness of the protocol, when the procedure is repeated, each party is not supposed to know the other's sifted key.\n",
        "\n",
        "Note that, in the real world, quantum channel are subject to information loss since detectors are not perfectly efficient and some photons are going to be lost along the way. Thus, the similarity between the keys will hardly be $1.0$, but surely not as low as $0.75$ which we know is the case in which it has been eavesdropped. As a percentage cut-off we can pick $0.9$ and perform a check before calling the exchange successfull or invalid. You can try to insert a parameter that represents this loss as exercise."
      ]
    },
    {
      "cell_type": "code",
      "execution_count": 35,
      "metadata": {
        "colab": {
          "base_uri": "https://localhost:8080/"
        },
        "id": "F7Kxcc91G1aZ",
        "outputId": "f000d44e-32c2-4fcf-c7c2-cc8bf443db97"
      },
      "outputs": [
        {
          "output_type": "stream",
          "name": "stdout",
          "text": [
            "Key exchange has been successfull\n",
            "New Alice's key:  ['0', '0', '1', '1', '0', '1']\n",
            "New Bob's key:  ['0', '0', '1', '1', '0', '1']\n"
          ]
        }
      ],
      "source": [
        "if (acc//len(new_alice_key) == 1):\n",
        "    print(\"Key exchange has been successfull\")\n",
        "    print(\"New Alice's key: \", new_alice_key)\n",
        "    print(\"New Bob's key: \", new_bob_key)\n",
        "else:\n",
        "    print(\"Key exchange has been tampered! Check for eavesdropper or try again\")\n",
        "    print(\"New Alice's key is invalid: \", new_alice_key)\n",
        "    print(\"New Bob's key is invalid: \", new_bob_key)"
      ]
    },
    {
      "cell_type": "markdown",
      "metadata": {
        "id": "Ix7-Fx8xG1aZ"
      },
      "source": [
        "Everything overlaps perfectly, that is indeed almost trivial. It's time to introduce Eve, the eavesdropper, and see what happens. We create Eve's circuit and we initiliaze it to Alice's state."
      ]
    },
    {
      "cell_type": "code",
      "execution_count": 36,
      "metadata": {
        "colab": {
          "base_uri": "https://localhost:8080/"
        },
        "id": "ZAg3ySHpG1aZ",
        "outputId": "a1817b3f-88ba-4304-b2b9-034dfd9f5f17"
      },
      "outputs": [
        {
          "output_type": "stream",
          "name": "stderr",
          "text": [
            "/tmp/ipython-input-36-3498409387.py:2: DeprecationWarning: Treating CircuitInstruction as an iterable is deprecated legacy behavior since Qiskit 1.2, and will be removed in Qiskit 3.0. Instead, use the `operation`, `qubits` and `clbits` named attributes.\n",
            "  for instr, qargs, cargs in sender.data:\n"
          ]
        }
      ],
      "source": [
        "def SendState(sender: QuantumCircuit, receiver: QuantumCircuit, label=''):\n",
        "    for instr, qargs, cargs in sender.data:\n",
        "        receiver.append(instr, qargs, cargs)\n",
        "\n",
        "eve = QuantumCircuit(qr, cr, name='Eve')\n",
        "SendState(alice, eve, 'Alice')\n",
        "qr = QuantumRegister(5)\n",
        "cr = ClassicalRegister(5)\n",
        "\n",
        "alice = QuantumCircuit(qr, cr, name='Alice')\n",
        "\n",
        "# Alice prepares her qubits\n",
        "for i in range(5):\n",
        "    alice.h(i)\n",
        "    alice.barrier()\n",
        "\n",
        "# Now Eve receives the qubits\n",
        "eve = QuantumCircuit(qr, cr, name='Eve')\n",
        "\n",
        "# Simulate sending\n",
        "SendState(alice, eve, 'Alice')"
      ]
    },
    {
      "cell_type": "markdown",
      "metadata": {
        "id": "omnw5kc7G1aZ"
      },
      "source": [
        "Just like Bob, Eve doesn't know which basis to use and she picks them randomly while recording her choice in a (table) list"
      ]
    },
    {
      "cell_type": "code",
      "execution_count": 37,
      "metadata": {
        "id": "MLsnzimxG1aZ"
      },
      "outputs": [],
      "source": [
        "eve_table = []\n",
        "for index in range(len(qr)):\n",
        "    if 0.5 < np.random.random():\n",
        "        eve.h(qr[index])\n",
        "        eve_table.append('X')\n",
        "    else:\n",
        "        eve_table.append('Z')"
      ]
    },
    {
      "cell_type": "markdown",
      "metadata": {
        "id": "uwhk6zmAG1aZ"
      },
      "source": [
        "She measures according to her basis choice and she generates her candidate key"
      ]
    },
    {
      "cell_type": "code",
      "execution_count": 38,
      "metadata": {
        "id": "rWPipNFWG1aZ"
      },
      "outputs": [],
      "source": [
        "\n",
        "# Medir todos los qubits en Eve\n",
        "for index in range(len(qr)):\n",
        "    eve.measure(qr[index], cr[index])\n",
        "\n",
        "# Crear simulador\n",
        "simulator = AerSimulator()\n",
        "\n",
        "# Transpilar circuito para el simulador\n",
        "compiled_eve = transpile(eve, simulator)\n",
        "\n",
        "# Ejecutar circuito\n",
        "result = simulator.run(compiled_eve, shots=1).result()\n",
        "\n",
        "# Obtener clave de Eve (como string binario)\n",
        "eve_key = list(result.get_counts())[0]\n",
        "eve_key = eve_key[::-1]  # invertir para que sea MSB→LSB (orden Qiskit)\n"
      ]
    },
    {
      "cell_type": "markdown",
      "metadata": {
        "id": "olNSjf0_G1aZ"
      },
      "source": [
        "Up to now, Eve did exactly what Bob did in the previous example. From this point on, however, things are a bit tricky. Eve has measured the state causing qubits to collapse in different eigenstates. This property is not easy to implement in QISKit because measurement results are stored in classical registered, while the qubits themselves are \"unchanged\". Therefore we need to update Eve's qubits to the new altered states starting from the results of the measures (Eve's key), reversing the instructions that Eve has executed, and apply them to qubits when necessary, which means when the basis choice was different.\n",
        "\n",
        "You can try figure out yourself how a state is changed after a measurement, but remember that unitary operators in general don't commute."
      ]
    },
    {
      "cell_type": "code",
      "execution_count": 39,
      "metadata": {
        "colab": {
          "base_uri": "https://localhost:8080/"
        },
        "id": "O5ab9lNUG1aZ",
        "outputId": "226344a5-17de-45e4-cfe8-e1926fc27ad8"
      },
      "outputs": [
        {
          "output_type": "stream",
          "name": "stdout",
          "text": [
            "Same choice for qubit: 0, basis: Z\n",
            "Same choice for qubit: 1, basis: Z\n",
            "Same choice for qubit: 2, basis: Z\n",
            "Same choice for qubit: 3, basis: X\n",
            "Same choice for qubit: 4, basis: X\n"
          ]
        }
      ],
      "source": [
        "# Update states to new eigenstates (of wrongly chosen basis)\n",
        "for qubit, basis in enumerate(zip(alice_table, eve_table)):\n",
        "    if basis[0] == basis[1]:\n",
        "        print(\"Same choice for qubit: {}, basis: {}\" .format(qubit, basis[0]))\n",
        "    else:\n",
        "        print(\"Different choice for qubit: {}, Alice has {}, Eve has {}\" .format(qubit, basis[0], basis[1]))\n",
        "        if eve_key[qubit] == alice_key[qubit]:\n",
        "            eve.h(qr[qubit])\n",
        "        else:\n",
        "            if basis[0] == 'X' and basis[1] == 'Z':\n",
        "                eve.h(qr[qubit])\n",
        "                eve.x(qr[qubit])\n",
        "            else:\n",
        "                eve.x(qr[qubit])\n",
        "                eve.h(qr[qubit])"
      ]
    },
    {
      "cell_type": "markdown",
      "metadata": {
        "id": "3MNSitjCG1aZ"
      },
      "source": [
        "Eve's altered state is now sent to Bob that performs the usual routine"
      ]
    },
    {
      "cell_type": "code",
      "execution_count": 40,
      "metadata": {
        "id": "4NtJyxQ_G1aZ"
      },
      "outputs": [],
      "source": [
        "# Qiskit 2.1.0 Compatible BB84 (Alice → Eve → Bob)\n",
        "import numpy as np\n",
        "from qiskit import QuantumRegister, ClassicalRegister, QuantumCircuit\n",
        "from qiskit_aer import AerSimulator  # Import AerSimulator from qiskit_aer\n",
        "from qiskit.visualization import plot_histogram # Corrected import path\n",
        "import matplotlib.pyplot as plt\n",
        "\n",
        "# Crear registros compartidos\n",
        "n_qubits = 5 # Set the number of qubits for the Eve scenario\n",
        "qr = QuantumRegister(n_qubits, 'q')\n",
        "cr = ClassicalRegister(n_qubits, 'c')\n",
        "\n",
        "# Crear circuitos que comparten los registros\n",
        "alice = QuantumCircuit(qr, cr, name='Alice')\n",
        "eve   = QuantumCircuit(qr, cr, name='Eve')\n",
        "bob   = QuantumCircuit(qr, cr, name='Bob')\n",
        "\n",
        "# Alice elige bases aleatorias (Z o X) y bits (0 o 1)\n",
        "alice_bases = []\n",
        "alice_bits = []\n",
        "\n",
        "for i in range(n_qubits):\n",
        "    bit = int(np.random.rand() < 0.5)\n",
        "    basis = 'X' if np.random.rand() < 0.5 else 'Z'\n",
        "    alice_bits.append(bit)\n",
        "    alice_bases.append(basis)\n",
        "\n",
        "    if bit == 1:\n",
        "        alice.x(qr[i])  # Codifica el bit\n",
        "\n",
        "    if basis == 'X':\n",
        "        alice.h(qr[i])  # Cambia a base X\n",
        "\n",
        "# Generate alice_key based on alice_bits\n",
        "alice_key = ''.join(map(str, alice_bits))\n",
        "\n",
        "def SendState(sender, receiver):\n",
        "    for gate in sender.data:\n",
        "        receiver.append(gate.operation, gate.qubits, gate.clbits)\n",
        "\n",
        "# Eve intercepta\n",
        "SendState(alice, eve)\n",
        "\n",
        "# Eve elige bases aleatorias y mide (simula ataque)\n",
        "for i in range(n_qubits):\n",
        "    if np.random.rand() < 0.5:\n",
        "        eve.h(qr[i])\n",
        "eve.measure(qr, cr)\n",
        "\n",
        "# Luego borra mediciones para no duplicarlas en Bob\n",
        "eve.data = [instr for instr in eve.data if instr.operation.name != 'measure']\n",
        "\n",
        "# Eve reenvía a Bob\n",
        "SendState(eve, bob)\n",
        "\n",
        "# Bob mide en bases aleatorias\n",
        "bob_bases = []\n",
        "for i in range(n_qubits):\n",
        "    basis = 'X' if np.random.rand() < 0.5 else 'Z'\n",
        "    bob_bases.append(basis)\n",
        "    if basis == 'X':\n",
        "        bob.h(qr[i])\n",
        "    bob.measure(qr[i], cr[i])\n",
        "\n",
        "# Ejecutar simulación\n",
        "simulator = AerSimulator() # Use AerSimulator\n",
        "result = simulator.run(bob, shots=1).result() # Use the run method\n",
        "\n",
        "# Mostrar resultados\n",
        "counts = result.get_counts()\n",
        "plot_histogram(counts)\n",
        "plt.show()"
      ]
    },
    {
      "cell_type": "code",
      "execution_count": 41,
      "metadata": {
        "id": "M7mBZ_uGG1ae"
      },
      "outputs": [],
      "source": [
        "bob_key = list(result.get_counts(bob))[0]\n",
        "bob_key = bob_key[::-1]"
      ]
    },
    {
      "cell_type": "markdown",
      "metadata": {
        "id": "LO9bkTQgG1ae"
      },
      "source": [
        "After the measure Alice and Bob share the basis table lists and perform the usual checks"
      ]
    },
    {
      "cell_type": "code",
      "execution_count": 42,
      "metadata": {
        "colab": {
          "base_uri": "https://localhost:8080/"
        },
        "id": "mqIGur8SG1ae",
        "outputId": "b475393b-f3ed-4649-fc8e-ebbe550c7122"
      },
      "outputs": [
        {
          "output_type": "stream",
          "name": "stdout",
          "text": [
            "Same choice for qubit: 0, basis: X\n",
            "Different choice for qubit: 1, Alice has Z, Bob has X\n",
            "Different choice for qubit: 2, Alice has Z, Bob has X\n",
            "Same choice for qubit: 3, basis: Z\n",
            "Same choice for qubit: 4, basis: X\n",
            "\n",
            "Percentage of qubits to be discarded according to table comparison:  0.6\n",
            "Measurement convergence by additional chance:  0.6\n",
            "\n",
            "Percentage of similarity between the keys:  0.6666666666666666\n",
            "\n",
            "Key exchange has been tampered! Check for eavesdropper or try again\n",
            "New Alice's key is invalid:  ['0', '1', '0']\n",
            "New Bob's key is invalid:  ['1', '1', '0']\n"
          ]
        }
      ],
      "source": [
        "keep = []\n",
        "discard = []\n",
        "for qubit, basis in enumerate(zip(alice_bases, bob_bases)): # Use alice_bases and bob_bases from the current circuit\n",
        "    if basis[0] == basis[1]:\n",
        "        print(\"Same choice for qubit: {}, basis: {}\" .format(qubit, basis[0]))\n",
        "        keep.append(qubit)\n",
        "    else:\n",
        "        print(\"Different choice for qubit: {}, Alice has {}, Bob has {}\" .format(qubit, basis[0], basis[1]))\n",
        "        discard.append(qubit)\n",
        "\n",
        "# Use the actual number of qubits from the current circuit\n",
        "n_qubits = len(qr)\n",
        "\n",
        "acc = 0\n",
        "# Iterate over the keys generated in the current scenario\n",
        "for a_bit, b_bit in zip(alice_key, bob_key):\n",
        "    if a_bit == b_bit:\n",
        "        acc += 1\n",
        "\n",
        "print('\\nPercentage of qubits to be discarded according to table comparison: ', len(keep)/n_qubits)\n",
        "print('Measurement convergence by additional chance: ', acc/n_qubits)\n",
        "\n",
        "new_alice_key = [alice_key[qubit] for qubit in keep]\n",
        "new_bob_key = [bob_key[qubit] for qubit in keep]\n",
        "\n",
        "acc = 0\n",
        "for bit in zip(new_alice_key, new_bob_key):\n",
        "    if bit[0] == bit[1]:\n",
        "        acc += 1\n",
        "\n",
        "print('\\nPercentage of similarity between the keys: ', acc/len(new_alice_key) if len(new_alice_key) > 0 else 0) # Handle division by zero\n",
        "\n",
        "if (acc == len(new_alice_key) and len(new_alice_key) > 0): # Check for empty key case\n",
        "    print(\"\\nKey exchange has been successfull\")\n",
        "    print(\"New Alice's key: \", new_alice_key)\n",
        "    print(\"New Bob's key: \", new_bob_key)\n",
        "else:\n",
        "    print(\"\\nKey exchange has been tampered! Check for eavesdropper or try again\")\n",
        "    print(\"New Alice's key is invalid: \", new_alice_key)\n",
        "    print(\"New Bob's key is invalid: \", new_bob_key)"
      ]
    },
    {
      "cell_type": "markdown",
      "metadata": {
        "id": "gFyJRnUpG1ae"
      },
      "source": [
        "As you can see when Alice and Bob reveal their key to each other they notice a discordance: Eve has been caught!  To really get the percentages right, you can try repeating the experiment multiple times or you can write a higher routine that iterates the key sharing; in either case you will se that they converge to the expected values."
      ]
    }
  ],
  "metadata": {
    "kernelspec": {
      "display_name": "Python [conda env:base] *",
      "language": "python",
      "name": "conda-base-py"
    },
    "language_info": {
      "codemirror_mode": {
        "name": "ipython",
        "version": 3
      },
      "file_extension": ".py",
      "mimetype": "text/x-python",
      "name": "python",
      "nbconvert_exporter": "python",
      "pygments_lexer": "ipython3",
      "version": "3.12.7"
    },
    "colab": {
      "provenance": []
    }
  },
  "nbformat": 4,
  "nbformat_minor": 0
}